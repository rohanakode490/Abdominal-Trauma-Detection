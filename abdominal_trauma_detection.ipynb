{
 "cells": [
  {
   "cell_type": "code",
   "execution_count": 1,
   "id": "5e931510",
   "metadata": {
    "execution": {
     "iopub.execute_input": "2023-10-13T22:00:56.569380Z",
     "iopub.status.busy": "2023-10-13T22:00:56.568634Z",
     "iopub.status.idle": "2023-10-13T22:01:04.625576Z",
     "shell.execute_reply": "2023-10-13T22:01:04.624564Z"
    },
    "papermill": {
     "duration": 8.074341,
     "end_time": "2023-10-13T22:01:04.627687",
     "exception": false,
     "start_time": "2023-10-13T22:00:56.553346",
     "status": "completed"
    },
    "tags": []
   },
   "outputs": [
    {
     "name": "stderr",
     "output_type": "stream",
     "text": [
      "/opt/conda/lib/python3.10/site-packages/scipy/__init__.py:146: UserWarning: A NumPy version >=1.16.5 and <1.23.0 is required for this version of SciPy (detected version 1.23.5\n",
      "  warnings.warn(f\"A NumPy version >={np_minversion} and <{np_maxversion}\"\n"
     ]
    }
   ],
   "source": [
    "import numpy as np\n",
    "import pandas as pd  \n",
    "import seaborn as sns \n",
    "import matplotlib.pyplot as plt  \n",
    "import pandas.api.types\n",
    "import sklearn.metrics  \n",
    "import nibabel as nib\n",
    "import os\n",
    "import pydicom\n",
    "from glob import glob\n",
    "from tqdm import tqdm, trange\n",
    "import torch\n",
    "from torch.utils.data import Dataset, DataLoader\n",
    "from torchvision import transforms\n",
    "from torchvision.transforms import Resize, ToPILImage, ToTensor\n",
    "from timm import create_model\n",
    "import torch.nn as nn\n",
    "import torch.optim as optim"
   ]
  },
  {
   "cell_type": "code",
   "execution_count": 2,
   "id": "52589d59",
   "metadata": {
    "execution": {
     "iopub.execute_input": "2023-10-13T22:01:04.636841Z",
     "iopub.status.busy": "2023-10-13T22:01:04.636585Z",
     "iopub.status.idle": "2023-10-13T22:01:04.640474Z",
     "shell.execute_reply": "2023-10-13T22:01:04.639518Z"
    },
    "papermill": {
     "duration": 0.010287,
     "end_time": "2023-10-13T22:01:04.642159",
     "exception": false,
     "start_time": "2023-10-13T22:01:04.631872",
     "status": "completed"
    },
    "tags": []
   },
   "outputs": [],
   "source": [
    "file_path = \"/kaggle/input/rsna-2023-abdominal-trauma-detection\""
   ]
  },
  {
   "cell_type": "code",
   "execution_count": 3,
   "id": "b1019763",
   "metadata": {
    "execution": {
     "iopub.execute_input": "2023-10-13T22:01:04.650398Z",
     "iopub.status.busy": "2023-10-13T22:01:04.650170Z",
     "iopub.status.idle": "2023-10-13T22:01:04.654228Z",
     "shell.execute_reply": "2023-10-13T22:01:04.653293Z"
    },
    "papermill": {
     "duration": 0.01003,
     "end_time": "2023-10-13T22:01:04.655819",
     "exception": false,
     "start_time": "2023-10-13T22:01:04.645789",
     "status": "completed"
    },
    "tags": []
   },
   "outputs": [],
   "source": [
    "Target_cols = [\"bowel_healthy\", \"bowel_injury\", \"extravasation_healthy\",\n",
    "                   \"extravasation_injury\", \"kidney_healthy\", \"kidney_low\",\n",
    "                   \"kidney_high\", \"liver_healthy\", \"liver_low\", \"liver_high\",\n",
    "                   \"spleen_healthy\", \"spleen_low\", \"spleen_high\",\"any_injury\"]"
   ]
  },
  {
   "cell_type": "code",
   "execution_count": 4,
   "id": "346e1fce",
   "metadata": {
    "execution": {
     "iopub.execute_input": "2023-10-13T22:01:04.664214Z",
     "iopub.status.busy": "2023-10-13T22:01:04.663834Z",
     "iopub.status.idle": "2023-10-13T22:01:04.685865Z",
     "shell.execute_reply": "2023-10-13T22:01:04.684928Z"
    },
    "papermill": {
     "duration": 0.028092,
     "end_time": "2023-10-13T22:01:04.687592",
     "exception": false,
     "start_time": "2023-10-13T22:01:04.659500",
     "status": "completed"
    },
    "tags": []
   },
   "outputs": [],
   "source": [
    "file_path = \"/kaggle/input/rsna-2023-abdominal-trauma-detection\"\n",
    "train_csv=f\"{file_path}/train.csv\" \n",
    "train=pd.read_csv(train_csv) "
   ]
  },
  {
   "cell_type": "code",
   "execution_count": 5,
   "id": "e28a7546",
   "metadata": {
    "execution": {
     "iopub.execute_input": "2023-10-13T22:01:04.696324Z",
     "iopub.status.busy": "2023-10-13T22:01:04.695985Z",
     "iopub.status.idle": "2023-10-13T22:01:04.699986Z",
     "shell.execute_reply": "2023-10-13T22:01:04.699129Z"
    },
    "papermill": {
     "duration": 0.01043,
     "end_time": "2023-10-13T22:01:04.701908",
     "exception": false,
     "start_time": "2023-10-13T22:01:04.691478",
     "status": "completed"
    },
    "tags": []
   },
   "outputs": [],
   "source": [
    "organs_healthy = [ \n",
    "          'bowel_healthy',\n",
    "          'extravasation_healthy',\n",
    "          'kidney_healthy',\n",
    "          'liver_healthy',\n",
    "          'spleen_healthy'\n",
    "] "
   ]
  },
  {
   "cell_type": "code",
   "execution_count": 6,
   "id": "83ddee9c",
   "metadata": {
    "execution": {
     "iopub.execute_input": "2023-10-13T22:01:04.711043Z",
     "iopub.status.busy": "2023-10-13T22:01:04.710485Z",
     "iopub.status.idle": "2023-10-13T22:01:04.715295Z",
     "shell.execute_reply": "2023-10-13T22:01:04.714457Z"
    },
    "papermill": {
     "duration": 0.011194,
     "end_time": "2023-10-13T22:01:04.717047",
     "exception": false,
     "start_time": "2023-10-13T22:01:04.705853",
     "status": "completed"
    },
    "tags": []
   },
   "outputs": [],
   "source": [
    "low_high = [\n",
    "            'bowel_injury',\n",
    "            'extravasation_injury',\n",
    "            'kidney_low',\n",
    "            'kidney_high',\n",
    "            'liver_high',\n",
    "            'liver_low' , \n",
    "            'spleen_low',\n",
    "            'spleen_high',\n",
    "            'any_injury'\n",
    "] "
   ]
  },
  {
   "cell_type": "code",
   "execution_count": 7,
   "id": "63f94d1f",
   "metadata": {
    "execution": {
     "iopub.execute_input": "2023-10-13T22:01:04.726898Z",
     "iopub.status.busy": "2023-10-13T22:01:04.726087Z",
     "iopub.status.idle": "2023-10-13T22:01:04.739579Z",
     "shell.execute_reply": "2023-10-13T22:01:04.738737Z"
    },
    "papermill": {
     "duration": 0.020191,
     "end_time": "2023-10-13T22:01:04.741208",
     "exception": false,
     "start_time": "2023-10-13T22:01:04.721017",
     "status": "completed"
    },
    "tags": []
   },
   "outputs": [],
   "source": [
    "train_series_meta = pd.read_csv('/kaggle/input/rsna-2023-abdominal-trauma-detection/train_series_meta.csv')"
   ]
  },
  {
   "cell_type": "code",
   "execution_count": 8,
   "id": "94880b39",
   "metadata": {
    "execution": {
     "iopub.execute_input": "2023-10-13T22:01:04.749678Z",
     "iopub.status.busy": "2023-10-13T22:01:04.749449Z",
     "iopub.status.idle": "2023-10-13T22:01:04.767422Z",
     "shell.execute_reply": "2023-10-13T22:01:04.766610Z"
    },
    "papermill": {
     "duration": 0.024295,
     "end_time": "2023-10-13T22:01:04.769325",
     "exception": false,
     "start_time": "2023-10-13T22:01:04.745030",
     "status": "completed"
    },
    "tags": []
   },
   "outputs": [],
   "source": [
    "test_series_meta=pd.read_csv(\"/kaggle/input/rsna-2023-abdominal-trauma-detection/test_series_meta.csv\") "
   ]
  },
  {
   "cell_type": "code",
   "execution_count": 9,
   "id": "a7ca7b06",
   "metadata": {
    "execution": {
     "iopub.execute_input": "2023-10-13T22:01:04.779218Z",
     "iopub.status.busy": "2023-10-13T22:01:04.778453Z",
     "iopub.status.idle": "2023-10-13T22:01:04.798079Z",
     "shell.execute_reply": "2023-10-13T22:01:04.797233Z"
    },
    "papermill": {
     "duration": 0.026527,
     "end_time": "2023-10-13T22:01:04.799853",
     "exception": false,
     "start_time": "2023-10-13T22:01:04.773326",
     "status": "completed"
    },
    "tags": []
   },
   "outputs": [],
   "source": [
    "image_labels = pd.read_csv( \"/kaggle/input/rsna-2023-abdominal-trauma-detection/image_level_labels.csv\")"
   ]
  },
  {
   "cell_type": "code",
   "execution_count": 10,
   "id": "63a97c82",
   "metadata": {
    "execution": {
     "iopub.execute_input": "2023-10-13T22:01:04.809301Z",
     "iopub.status.busy": "2023-10-13T22:01:04.808597Z",
     "iopub.status.idle": "2023-10-13T22:01:04.813484Z",
     "shell.execute_reply": "2023-10-13T22:01:04.812710Z"
    },
    "papermill": {
     "duration": 0.011472,
     "end_time": "2023-10-13T22:01:04.815370",
     "exception": false,
     "start_time": "2023-10-13T22:01:04.803898",
     "status": "completed"
    },
    "tags": []
   },
   "outputs": [],
   "source": [
    "BASE_DIR = \"/kaggle/input/rsna-2023-abdominal-trauma-detection\"\n",
    "TRAIN_CSV_PATH = os.path.join(BASE_DIR, \"train.csv\")\n",
    "TRAIN_IMAGES_PATH = os.path.join(BASE_DIR, \"train_images\")\n",
    "TEST_IMAGES_PATH = os.path.join(BASE_DIR, \"test_images\")\n",
    "SAMPLE_SUBMISSION_PATH = os.path.join(BASE_DIR, \"sample_submission.csv\")"
   ]
  },
  {
   "cell_type": "code",
   "execution_count": 11,
   "id": "bf70bf7d",
   "metadata": {
    "execution": {
     "iopub.execute_input": "2023-10-13T22:01:04.824302Z",
     "iopub.status.busy": "2023-10-13T22:01:04.823815Z",
     "iopub.status.idle": "2023-10-13T22:01:04.836436Z",
     "shell.execute_reply": "2023-10-13T22:01:04.835677Z"
    },
    "papermill": {
     "duration": 0.01895,
     "end_time": "2023-10-13T22:01:04.838174",
     "exception": false,
     "start_time": "2023-10-13T22:01:04.819224",
     "status": "completed"
    },
    "tags": []
   },
   "outputs": [],
   "source": [
    "train_df = pd.read_csv(TRAIN_CSV_PATH)\n",
    "sample_submission = pd.read_csv(SAMPLE_SUBMISSION_PATH)"
   ]
  },
  {
   "cell_type": "code",
   "execution_count": 12,
   "id": "691872a3",
   "metadata": {
    "execution": {
     "iopub.execute_input": "2023-10-13T22:01:04.847436Z",
     "iopub.status.busy": "2023-10-13T22:01:04.846790Z",
     "iopub.status.idle": "2023-10-13T22:01:04.864987Z",
     "shell.execute_reply": "2023-10-13T22:01:04.864185Z"
    },
    "papermill": {
     "duration": 0.024578,
     "end_time": "2023-10-13T22:01:04.866690",
     "exception": false,
     "start_time": "2023-10-13T22:01:04.842112",
     "status": "completed"
    },
    "tags": []
   },
   "outputs": [],
   "source": [
    "test_df = sample_submission[['patient_id']]"
   ]
  },
  {
   "cell_type": "code",
   "execution_count": 13,
   "id": "9d3215e9",
   "metadata": {
    "execution": {
     "iopub.execute_input": "2023-10-13T22:01:04.876131Z",
     "iopub.status.busy": "2023-10-13T22:01:04.875361Z",
     "iopub.status.idle": "2023-10-13T22:01:04.880437Z",
     "shell.execute_reply": "2023-10-13T22:01:04.879682Z"
    },
    "papermill": {
     "duration": 0.011373,
     "end_time": "2023-10-13T22:01:04.882038",
     "exception": false,
     "start_time": "2023-10-13T22:01:04.870665",
     "status": "completed"
    },
    "tags": []
   },
   "outputs": [],
   "source": [
    "\n",
    "def get_dicom_paths(patient_id, is_train=True):\n",
    "    folder = TRAIN_IMAGES_PATH if is_train else TEST_IMAGES_PATH\n",
    "    paths = []\n",
    "    for dirpath, _, filenames in os.walk(os.path.join(folder, patient_id)):\n",
    "        for file in filenames:\n",
    "            paths.append(os.path.join(dirpath, file))\n",
    "    return paths"
   ]
  },
  {
   "cell_type": "code",
   "execution_count": 14,
   "id": "0738eccb",
   "metadata": {
    "execution": {
     "iopub.execute_input": "2023-10-13T22:01:04.891592Z",
     "iopub.status.busy": "2023-10-13T22:01:04.891000Z",
     "iopub.status.idle": "2023-10-13T22:01:04.894846Z",
     "shell.execute_reply": "2023-10-13T22:01:04.893943Z"
    },
    "papermill": {
     "duration": 0.01053,
     "end_time": "2023-10-13T22:01:04.896492",
     "exception": false,
     "start_time": "2023-10-13T22:01:04.885962",
     "status": "completed"
    },
    "tags": []
   },
   "outputs": [],
   "source": [
    "\n",
    "transform = transforms.Compose([\n",
    "    transforms.ToTensor(),\n",
    "])"
   ]
  },
  {
   "cell_type": "code",
   "execution_count": 15,
   "id": "700d6be8",
   "metadata": {
    "execution": {
     "iopub.execute_input": "2023-10-13T22:01:04.906047Z",
     "iopub.status.busy": "2023-10-13T22:01:04.905245Z",
     "iopub.status.idle": "2023-10-13T22:01:04.912746Z",
     "shell.execute_reply": "2023-10-13T22:01:04.911993Z"
    },
    "papermill": {
     "duration": 0.013798,
     "end_time": "2023-10-13T22:01:04.914382",
     "exception": false,
     "start_time": "2023-10-13T22:01:04.900584",
     "status": "completed"
    },
    "tags": []
   },
   "outputs": [],
   "source": [
    "class CTDataset(Dataset):\n",
    "    def __init__(self, dataframe, root_dir, transform=None, is_train=True):\n",
    "        self.dataframe = dataframe\n",
    "        self.root_dir = root_dir\n",
    "        self.transform = transform\n",
    "        self.is_train = is_train\n",
    "\n",
    "    def __len__(self):\n",
    "        return len(self.dataframe)\n",
    "\n",
    "    def __getitem__(self, idx):\n",
    "        patient_id = str(self.dataframe.iloc[idx, 0])\n",
    "        dicom_paths = get_dicom_paths(patient_id, self.is_train)\n",
    "        if not dicom_paths:\n",
    "            raise FileNotFoundError(f\"No DICOM images found for patient {patient_id}\")\n",
    "        image = pydicom.dcmread(dicom_paths[0]).pixel_array\n",
    "        image = image.astype(np.float32) / 65535.0  \n",
    "        image = np.stack((image,) * 3, axis=-1)\n",
    "        image *= 255\n",
    "        image = image.astype(np.uint8)\n",
    "        to_pil = ToPILImage()\n",
    "        image = to_pil(image)\n",
    "        resize_transform = Resize((512, 512))\n",
    "        image = resize_transform(image)\n",
    "        to_tensor = ToTensor()\n",
    "        image = to_tensor(image)\n",
    "        labels = self.dataframe.iloc[idx, 1:].values\n",
    "        labels = torch.tensor(labels, dtype=torch.float32)\n",
    "        if self.transform:\n",
    "            image = self.transform(image)\n",
    "        return image, labels"
   ]
  },
  {
   "cell_type": "code",
   "execution_count": 16,
   "id": "804ff3d0",
   "metadata": {
    "execution": {
     "iopub.execute_input": "2023-10-13T22:01:04.924253Z",
     "iopub.status.busy": "2023-10-13T22:01:04.923381Z",
     "iopub.status.idle": "2023-10-13T22:01:04.928384Z",
     "shell.execute_reply": "2023-10-13T22:01:04.927598Z"
    },
    "papermill": {
     "duration": 0.011686,
     "end_time": "2023-10-13T22:01:04.929984",
     "exception": false,
     "start_time": "2023-10-13T22:01:04.918298",
     "status": "completed"
    },
    "tags": []
   },
   "outputs": [],
   "source": [
    "batch_size = 8\n",
    "train_dataset = CTDataset(dataframe=train_df, root_dir=TRAIN_IMAGES_PATH, is_train=True)\n",
    "train_loader = DataLoader(train_dataset, batch_size=batch_size, shuffle=True)"
   ]
  },
  {
   "cell_type": "code",
   "execution_count": 17,
   "id": "f88701c9",
   "metadata": {
    "execution": {
     "iopub.execute_input": "2023-10-13T22:01:04.941079Z",
     "iopub.status.busy": "2023-10-13T22:01:04.940727Z",
     "iopub.status.idle": "2023-10-13T22:01:04.944813Z",
     "shell.execute_reply": "2023-10-13T22:01:04.943927Z"
    },
    "papermill": {
     "duration": 0.012606,
     "end_time": "2023-10-13T22:01:04.946592",
     "exception": false,
     "start_time": "2023-10-13T22:01:04.933986",
     "status": "completed"
    },
    "tags": []
   },
   "outputs": [],
   "source": [
    "test_dataset = CTDataset(dataframe=test_df, root_dir=TEST_IMAGES_PATH, is_train=False)\n",
    "test_loader = DataLoader(test_dataset, batch_size=batch_size, shuffle=False)"
   ]
  },
  {
   "cell_type": "code",
   "execution_count": 18,
   "id": "df230258",
   "metadata": {
    "execution": {
     "iopub.execute_input": "2023-10-13T22:01:04.956762Z",
     "iopub.status.busy": "2023-10-13T22:01:04.956522Z",
     "iopub.status.idle": "2023-10-13T22:01:05.373932Z",
     "shell.execute_reply": "2023-10-13T22:01:05.372921Z"
    },
    "papermill": {
     "duration": 0.424948,
     "end_time": "2023-10-13T22:01:05.376119",
     "exception": false,
     "start_time": "2023-10-13T22:01:04.951171",
     "status": "completed"
    },
    "tags": []
   },
   "outputs": [],
   "source": [
    "model = create_model('efficientnet_b4', pretrained=False)"
   ]
  },
  {
   "cell_type": "code",
   "execution_count": 19,
   "id": "47f05e7f",
   "metadata": {
    "execution": {
     "iopub.execute_input": "2023-10-13T22:01:05.386460Z",
     "iopub.status.busy": "2023-10-13T22:01:05.386178Z",
     "iopub.status.idle": "2023-10-13T22:01:05.532277Z",
     "shell.execute_reply": "2023-10-13T22:01:05.531253Z"
    },
    "papermill": {
     "duration": 0.153684,
     "end_time": "2023-10-13T22:01:05.534507",
     "exception": false,
     "start_time": "2023-10-13T22:01:05.380823",
     "status": "completed"
    },
    "tags": []
   },
   "outputs": [],
   "source": [
    "torch.save(model.state_dict(), 'efficientnet_b4_weights.pth')"
   ]
  },
  {
   "cell_type": "code",
   "execution_count": 20,
   "id": "050941c8",
   "metadata": {
    "execution": {
     "iopub.execute_input": "2023-10-13T22:01:05.544461Z",
     "iopub.status.busy": "2023-10-13T22:01:05.544213Z",
     "iopub.status.idle": "2023-10-13T22:01:05.549102Z",
     "shell.execute_reply": "2023-10-13T22:01:05.548184Z"
    },
    "papermill": {
     "duration": 0.011654,
     "end_time": "2023-10-13T22:01:05.550765",
     "exception": false,
     "start_time": "2023-10-13T22:01:05.539111",
     "status": "completed"
    },
    "tags": []
   },
   "outputs": [],
   "source": [
    "weights_path = 'efficientnet_b4_weights.pth'\n",
    "\n",
    "def build_model(num_classes):\n",
    "    model = create_model('efficientnet_b4', pretrained=False)\n",
    "    \n",
    "    if os.path.exists(weights_path):\n",
    "        model.load_state_dict(torch.load(weights_path, map_location='cpu'), strict=False)  \n",
    "    else:\n",
    "        print(f'Warning: Weights file not found in path {weights_path}, training from scratch.')\n",
    "    \n",
    "    model.classifier = nn.Linear(model.classifier.in_features, num_classes)\n",
    "    \n",
    "    return model"
   ]
  },
  {
   "cell_type": "code",
   "execution_count": 21,
   "id": "e3c2eb8e",
   "metadata": {
    "execution": {
     "iopub.execute_input": "2023-10-13T22:01:05.560076Z",
     "iopub.status.busy": "2023-10-13T22:01:05.559813Z",
     "iopub.status.idle": "2023-10-13T22:01:09.581833Z",
     "shell.execute_reply": "2023-10-13T22:01:09.580900Z"
    },
    "papermill": {
     "duration": 4.029374,
     "end_time": "2023-10-13T22:01:09.584099",
     "exception": false,
     "start_time": "2023-10-13T22:01:05.554725",
     "status": "completed"
    },
    "tags": []
   },
   "outputs": [],
   "source": [
    "device = torch.device(\"cuda\" if torch.cuda.is_available() else \"cpu\")\n",
    "model = build_model(len(train_df.columns) - 1).to(device)"
   ]
  },
  {
   "cell_type": "code",
   "execution_count": 22,
   "id": "a51fc85a",
   "metadata": {
    "execution": {
     "iopub.execute_input": "2023-10-13T22:01:09.594616Z",
     "iopub.status.busy": "2023-10-13T22:01:09.594278Z",
     "iopub.status.idle": "2023-10-13T22:01:09.600680Z",
     "shell.execute_reply": "2023-10-13T22:01:09.599784Z"
    },
    "papermill": {
     "duration": 0.013414,
     "end_time": "2023-10-13T22:01:09.602422",
     "exception": false,
     "start_time": "2023-10-13T22:01:09.589008",
     "status": "completed"
    },
    "tags": []
   },
   "outputs": [],
   "source": [
    "criterion = torch.nn.BCEWithLogitsLoss()\n",
    "optimizer = optim.Adam(model.parameters(), lr=0.001)"
   ]
  },
  {
   "cell_type": "code",
   "execution_count": 23,
   "id": "82400bb7",
   "metadata": {
    "execution": {
     "iopub.execute_input": "2023-10-13T22:01:09.614567Z",
     "iopub.status.busy": "2023-10-13T22:01:09.614311Z",
     "iopub.status.idle": "2023-10-13T22:36:53.732315Z",
     "shell.execute_reply": "2023-10-13T22:36:53.731469Z"
    },
    "papermill": {
     "duration": 2144.125774,
     "end_time": "2023-10-13T22:36:53.734857",
     "exception": false,
     "start_time": "2023-10-13T22:01:09.609083",
     "status": "completed"
    },
    "tags": []
   },
   "outputs": [
    {
     "name": "stdout",
     "output_type": "stream",
     "text": [
      "0\n",
      "1\n",
      "2\n",
      "3\n",
      "4\n",
      "5\n",
      "6\n",
      "7\n",
      "8\n",
      "9\n",
      "10\n",
      "11\n",
      "12\n",
      "13\n",
      "14\n",
      "15\n",
      "16\n",
      "17\n",
      "18\n",
      "19\n",
      "20\n",
      "21\n",
      "22\n",
      "23\n",
      "24\n",
      "25\n",
      "26\n",
      "27\n",
      "28\n",
      "29\n",
      "30\n",
      "31\n",
      "32\n",
      "33\n",
      "34\n",
      "35\n",
      "36\n",
      "37\n",
      "38\n",
      "39\n",
      "40\n",
      "41\n",
      "42\n",
      "43\n",
      "44\n",
      "45\n",
      "46\n",
      "47\n",
      "48\n",
      "49\n",
      "50\n",
      "51\n",
      "52\n",
      "53\n",
      "54\n",
      "55\n",
      "56\n",
      "57\n",
      "58\n",
      "59\n",
      "60\n",
      "61\n",
      "62\n",
      "63\n",
      "64\n",
      "65\n",
      "66\n",
      "67\n",
      "68\n",
      "69\n",
      "70\n",
      "71\n",
      "72\n",
      "73\n",
      "74\n",
      "75\n",
      "76\n",
      "77\n",
      "78\n",
      "79\n",
      "80\n",
      "81\n",
      "82\n",
      "83\n",
      "84\n",
      "85\n",
      "86\n",
      "87\n",
      "88\n",
      "89\n",
      "90\n",
      "91\n",
      "92\n",
      "93\n",
      "94\n",
      "95\n",
      "96\n",
      "97\n",
      "98\n",
      "99\n",
      "100\n",
      "101\n",
      "102\n",
      "103\n",
      "104\n",
      "105\n",
      "106\n",
      "107\n",
      "108\n",
      "109\n",
      "110\n",
      "111\n",
      "112\n",
      "113\n",
      "114\n",
      "115\n",
      "116\n",
      "117\n",
      "118\n",
      "119\n",
      "120\n",
      "121\n",
      "122\n",
      "123\n",
      "124\n",
      "125\n",
      "126\n",
      "127\n",
      "128\n",
      "129\n",
      "130\n",
      "131\n",
      "132\n",
      "133\n",
      "134\n",
      "135\n",
      "136\n",
      "137\n",
      "138\n",
      "139\n",
      "140\n",
      "141\n",
      "142\n",
      "143\n",
      "144\n",
      "145\n",
      "146\n",
      "147\n",
      "148\n",
      "149\n",
      "150\n",
      "151\n",
      "152\n",
      "153\n",
      "154\n",
      "155\n",
      "156\n",
      "157\n",
      "158\n",
      "159\n",
      "160\n",
      "161\n",
      "162\n",
      "163\n",
      "164\n",
      "165\n",
      "166\n",
      "167\n",
      "168\n",
      "169\n",
      "170\n",
      "171\n",
      "172\n",
      "173\n",
      "174\n",
      "175\n",
      "176\n",
      "177\n",
      "178\n",
      "179\n",
      "180\n",
      "181\n",
      "182\n",
      "183\n",
      "184\n",
      "185\n",
      "186\n",
      "187\n",
      "188\n",
      "189\n",
      "190\n",
      "191\n",
      "192\n",
      "193\n",
      "194\n",
      "195\n",
      "196\n",
      "197\n",
      "198\n",
      "199\n",
      "200\n",
      "201\n",
      "202\n",
      "203\n",
      "204\n",
      "205\n",
      "206\n",
      "207\n",
      "208\n",
      "209\n",
      "210\n",
      "211\n",
      "212\n",
      "213\n",
      "214\n",
      "215\n",
      "216\n",
      "217\n",
      "218\n",
      "219\n",
      "220\n",
      "221\n",
      "222\n",
      "223\n",
      "224\n",
      "225\n",
      "226\n",
      "227\n",
      "228\n",
      "229\n",
      "230\n",
      "231\n",
      "232\n",
      "233\n",
      "234\n",
      "235\n",
      "236\n",
      "237\n",
      "238\n",
      "239\n",
      "240\n",
      "241\n",
      "242\n",
      "243\n",
      "244\n",
      "245\n",
      "246\n",
      "247\n",
      "248\n",
      "249\n",
      "250\n",
      "251\n",
      "252\n",
      "253\n",
      "254\n",
      "255\n",
      "256\n",
      "257\n",
      "258\n",
      "259\n",
      "260\n",
      "261\n",
      "262\n",
      "263\n",
      "264\n",
      "265\n",
      "266\n",
      "267\n",
      "268\n",
      "269\n",
      "270\n",
      "271\n",
      "272\n",
      "273\n",
      "274\n",
      "275\n",
      "276\n",
      "277\n",
      "278\n",
      "279\n",
      "280\n",
      "281\n",
      "282\n",
      "283\n",
      "284\n",
      "285\n",
      "286\n",
      "287\n",
      "288\n",
      "289\n",
      "290\n",
      "291\n",
      "292\n",
      "293\n",
      "294\n",
      "295\n",
      "296\n",
      "297\n",
      "298\n",
      "299\n",
      "300\n",
      "301\n",
      "302\n",
      "303\n",
      "304\n",
      "305\n",
      "306\n",
      "307\n",
      "308\n",
      "309\n",
      "310\n",
      "311\n",
      "312\n",
      "313\n",
      "314\n",
      "315\n",
      "316\n",
      "317\n",
      "318\n",
      "319\n",
      "320\n",
      "321\n",
      "322\n",
      "323\n",
      "324\n",
      "325\n",
      "326\n",
      "327\n",
      "328\n",
      "329\n",
      "330\n",
      "331\n",
      "332\n",
      "333\n",
      "334\n",
      "335\n",
      "336\n",
      "337\n",
      "338\n",
      "339\n",
      "340\n",
      "341\n",
      "342\n",
      "343\n",
      "344\n",
      "345\n",
      "346\n",
      "347\n",
      "348\n",
      "349\n",
      "350\n",
      "351\n",
      "352\n",
      "353\n",
      "354\n",
      "355\n",
      "356\n",
      "357\n",
      "358\n",
      "359\n",
      "360\n",
      "361\n",
      "362\n",
      "363\n",
      "364\n",
      "365\n",
      "366\n",
      "367\n",
      "368\n",
      "369\n",
      "370\n",
      "371\n",
      "372\n",
      "373\n",
      "374\n",
      "375\n",
      "376\n",
      "377\n",
      "378\n",
      "379\n",
      "380\n",
      "381\n",
      "382\n",
      "383\n",
      "384\n",
      "385\n",
      "386\n",
      "387\n",
      "388\n",
      "389\n",
      "390\n",
      "391\n",
      "392\n",
      "393\n",
      "Epoch 1, Loss: 0.24534836680945105\n"
     ]
    }
   ],
   "source": [
    "num_epochs = 1\n",
    "\n",
    "for epoch in range(num_epochs):\n",
    "    model.train()\n",
    "    running_loss = 0.0\n",
    "    for i, (inputs, labels) in enumerate(train_loader):\n",
    "        print(i)\n",
    "        inputs, labels = inputs.to(device), labels.to(device)\n",
    "        optimizer.zero_grad()\n",
    "        outputs = model(inputs)\n",
    "        loss = criterion(outputs, labels)\n",
    "        loss.backward()\n",
    "        optimizer.step()\n",
    "        running_loss += loss.item()\n",
    "\n",
    "    print(f\"Epoch {epoch+1}, Loss: {running_loss/len(train_loader)}\")"
   ]
  },
  {
   "cell_type": "code",
   "execution_count": 24,
   "id": "8b4d7a01",
   "metadata": {
    "execution": {
     "iopub.execute_input": "2023-10-13T22:36:53.816598Z",
     "iopub.status.busy": "2023-10-13T22:36:53.816141Z",
     "iopub.status.idle": "2023-10-13T22:36:53.999300Z",
     "shell.execute_reply": "2023-10-13T22:36:53.998334Z"
    },
    "papermill": {
     "duration": 0.225999,
     "end_time": "2023-10-13T22:36:54.001756",
     "exception": false,
     "start_time": "2023-10-13T22:36:53.775757",
     "status": "completed"
    },
    "tags": []
   },
   "outputs": [],
   "source": [
    "model.eval()\n",
    "predictions = []\n",
    "\n",
    "with torch.no_grad():\n",
    "    for images, _ in test_loader:\n",
    "        images = images.to(device)\n",
    "        outputs = torch.sigmoid(model(images))\n",
    "        predictions.append(outputs.cpu().numpy())"
   ]
  },
  {
   "cell_type": "code",
   "execution_count": 25,
   "id": "db0902b8",
   "metadata": {
    "execution": {
     "iopub.execute_input": "2023-10-13T22:36:54.095132Z",
     "iopub.status.busy": "2023-10-13T22:36:54.094730Z",
     "iopub.status.idle": "2023-10-13T22:36:54.099197Z",
     "shell.execute_reply": "2023-10-13T22:36:54.098438Z"
    },
    "papermill": {
     "duration": 0.049654,
     "end_time": "2023-10-13T22:36:54.102815",
     "exception": false,
     "start_time": "2023-10-13T22:36:54.053161",
     "status": "completed"
    },
    "tags": []
   },
   "outputs": [],
   "source": [
    "predictions = np.vstack(predictions)"
   ]
  },
  {
   "cell_type": "code",
   "execution_count": 26,
   "id": "3ef4514c",
   "metadata": {
    "execution": {
     "iopub.execute_input": "2023-10-13T22:36:54.182357Z",
     "iopub.status.busy": "2023-10-13T22:36:54.182071Z",
     "iopub.status.idle": "2023-10-13T22:36:54.185902Z",
     "shell.execute_reply": "2023-10-13T22:36:54.185173Z"
    },
    "papermill": {
     "duration": 0.048107,
     "end_time": "2023-10-13T22:36:54.189358",
     "exception": false,
     "start_time": "2023-10-13T22:36:54.141251",
     "status": "completed"
    },
    "tags": []
   },
   "outputs": [],
   "source": [
    "predictions = predictions[:, :-1]"
   ]
  },
  {
   "cell_type": "code",
   "execution_count": 27,
   "id": "7e00ddfa",
   "metadata": {
    "execution": {
     "iopub.execute_input": "2023-10-13T22:36:54.268538Z",
     "iopub.status.busy": "2023-10-13T22:36:54.268254Z",
     "iopub.status.idle": "2023-10-13T22:36:54.277015Z",
     "shell.execute_reply": "2023-10-13T22:36:54.276263Z"
    },
    "papermill": {
     "duration": 0.050671,
     "end_time": "2023-10-13T22:36:54.279287",
     "exception": false,
     "start_time": "2023-10-13T22:36:54.228616",
     "status": "completed"
    },
    "tags": []
   },
   "outputs": [],
   "source": [
    "submission_df = pd.DataFrame(sample_submission['patient_id'], columns=['patient_id'])\n",
    "predictions_df = pd.DataFrame(predictions, columns=sample_submission.columns[1:])\n",
    "submission_df = pd.concat([submission_df, predictions_df], axis=1)"
   ]
  },
  {
   "cell_type": "code",
   "execution_count": 28,
   "id": "725893ca",
   "metadata": {
    "execution": {
     "iopub.execute_input": "2023-10-13T22:36:54.358217Z",
     "iopub.status.busy": "2023-10-13T22:36:54.357943Z",
     "iopub.status.idle": "2023-10-13T22:36:54.365701Z",
     "shell.execute_reply": "2023-10-13T22:36:54.364953Z"
    },
    "papermill": {
     "duration": 0.049589,
     "end_time": "2023-10-13T22:36:54.368231",
     "exception": false,
     "start_time": "2023-10-13T22:36:54.318642",
     "status": "completed"
    },
    "tags": []
   },
   "outputs": [],
   "source": [
    "submission_filename = \"submission.csv\"\n",
    "submission_df.to_csv(submission_filename, index=False)"
   ]
  }
 ],
 "metadata": {
  "kernelspec": {
   "display_name": "Python 3",
   "language": "python",
   "name": "python3"
  },
  "language_info": {
   "codemirror_mode": {
    "name": "ipython",
    "version": 3
   },
   "file_extension": ".py",
   "mimetype": "text/x-python",
   "name": "python",
   "nbconvert_exporter": "python",
   "pygments_lexer": "ipython3",
   "version": "3.10.12"
  },
  "papermill": {
   "default_parameters": {},
   "duration": 2164.383513,
   "end_time": "2023-10-13T22:36:57.690123",
   "environment_variables": {},
   "exception": null,
   "input_path": "__notebook__.ipynb",
   "output_path": "__notebook__.ipynb",
   "parameters": {},
   "start_time": "2023-10-13T22:00:53.306610",
   "version": "2.4.0"
  }
 },
 "nbformat": 4,
 "nbformat_minor": 5
}
